{
 "cells": [
  {
   "cell_type": "markdown",
   "metadata": {},
   "source": [
    "# String "
   ]
  },
  {
   "cell_type": "code",
   "execution_count": 1,
   "metadata": {},
   "outputs": [
    {
     "name": "stdout",
     "output_type": "stream",
     "text": [
      "hello world\n"
     ]
    }
   ],
   "source": [
    "message = 'hello world'\n",
    "\n",
    "print (message)"
   ]
  },
  {
   "cell_type": "markdown",
   "metadata": {},
   "source": [
    "## Adding single quote inside the string \n",
    "\n",
    "1. Adding blacklash tells the python that the string does not end here \n",
    "2. Another way to handle that is to use double quotes on the outside and single quote in the inside \n",
    "3. Multi-Line string : using three quotes in the bigining and the end of out string "
   ]
  },
  {
   "cell_type": "code",
   "execution_count": null,
   "metadata": {},
   "outputs": [],
   "source": [
    "#message = 'Boddy\\'s wold'\n",
    "#message = \"boddy's wold\"\n",
    "#message = \"\"\"\" boddys's wold was a good  cartoon in the 1990s\"\"\"\"\n",
    "\n"
   ]
  },
  {
   "cell_type": "markdown",
   "metadata": {},
   "source": [
    "## functions with string \n",
    "\n",
    "1. len : shows the length of the string \n",
    "2. accesing individual character in the string : using [] we can access the each index in the string \n",
    "3. accesing range of index : using starting index [0] to ending index [5]  we can get the total range of characters."
   ]
  },
  {
   "cell_type": "code",
   "execution_count": null,
   "metadata": {},
   "outputs": [],
   "source": [
    "message = 'hello world '\n",
    "# 1. print(len(message))\n",
    "# 2. print(message[0])\n",
    "# 3. print(message[0:5]), or print(message[:5]) we can still get 'hello'"
   ]
  },
  {
   "cell_type": "markdown",
   "metadata": {},
   "source": [
    "## Methods in String \n",
    "\n",
    "Pre-Build func included in String \n",
    "\n",
    "1. lower : if we want to print message in lowercase \n",
    "2. uppe : if we want to print message in uppwercase\n",
    "3. count : if we want to count number of string in a sentence of number of letters , it takes string as an argument\n",
    "4. find : if we want to find the index of the string\n",
    "5. replace : if we want to replace certain string in a sentance \n",
    "6. plus : adding string togther \n",
    "7. format : we use place holder to add the string with variables \n",
    "8. f-string: instead of  using format method we can add the variables in the placeholders.We can use all the methods in the f-string \n"
   ]
  },
  {
   "cell_type": "code",
   "execution_count": 28,
   "metadata": {},
   "outputs": [
    {
     "name": "stdout",
     "output_type": "stream",
     "text": [
      "hello,michael. Welcome!\n"
     ]
    }
   ],
   "source": [
    "message = 'hello world'\n",
    "# 1. print(message.lower)\n",
    "# 2. print(message.upper)\n",
    "# 3. print(message.count('hello'))\n",
    "# 4. print(message.find('world'))\n",
    "# 5. new_messaage = message.replace('world','universe')\n",
    "    #print (new_message)'''\n",
    "\n",
    "# 6. adding string and concatenating \n",
    "\"\"\" \n",
    "greeting = \"hello wold\"\n",
    "name = 'michael'\n",
    "\n",
    "message = greeting +  ','+  name \n",
    "print(message) \n",
    "\"\"\" \n",
    "\n",
    "# 7. formated string for longer and more complex string \n",
    "\n",
    "\"\"\"greeting = \"hello\"\n",
    "name = 'michael'\n",
    "\n",
    "message_1 = '{},{}. Welcome!'.format(greeting,name)\n",
    "\n",
    "print(message_1) \n",
    "\"\"\"\n",
    "# 8. f-string \n",
    "\"\"\"\n",
    "greeting = \"hello\"\n",
    "name = 'michael'\n",
    "\n",
    "message_1 = f'{greeting.upper},{name.upper()}. Welcome!'\n",
    "print(message_1) \"\"\"\n",
    "\n",
    "\n",
    "\n",
    "\n",
    "\n",
    "\n",
    "\n"
   ]
  },
  {
   "cell_type": "markdown",
   "metadata": {},
   "source": [
    "# Integers and Floats "
   ]
  },
  {
   "cell_type": "markdown",
   "metadata": {},
   "source": [
    "## Opretors \n",
    "\n",
    "1. Addition : 3 +2 \n",
    "2. Sub : 3-2\n",
    "3. Multi : 3 * 2\n",
    "4. Div : 3/2\n",
    "5. Floor division : 3 // 2\n",
    "6. Exponents : 3**2\n",
    "7. Modules : 3 % 2"
   ]
  },
  {
   "cell_type": "markdown",
   "metadata": {},
   "source": [
    "# List, Tuples, Sets \n"
   ]
  },
  {
   "cell_type": "markdown",
   "metadata": {},
   "source": [
    "\n",
    "## List \n",
    "\n",
    "It allows us to work with list of values.\n",
    "\n",
    "1. We can number of strings to create with list by [],\n",
    "2. We can use index to extract a string from the list \n",
    "3. Negative index :  we use negative index(which starts from the end) to list out the strings \n",
    "4. Range of value : we can grab range of values\n",
    "5. Append : if we want to add an item at the end of the list\n",
    "6. Insert: if we want to add something in spefic location\n",
    "7. Extend : merges the two list together.\n",
    "8. .Remove() : remove particular item \n",
    "9. .pop() : Remove the last value from the list, it returns the value the its removed so we can capture in the new varialble\n",
    "10. Sorting : \n",
    "    - courses.reverse() : reverse the list  \n",
    "    - courses.sort() : sorts the list in alpha order.\n",
    "    - courses.sort(reverse= True) =  shortcut for decending order \n",
    "    - Sorted() =  this function sorts the list with alterting the original version\n",
    "    - Min,Max,Sum = sorts the list to min,max,sum\n",
    "    - courses.index() =  finds the index of the string\n",
    "    - In method =  True or Falsse if the value exit in the list\n",
    "    - enumerate = we can acess the index and value using this function\n",
    "    - .join() = this methods formates the list and returns the value seprated by comma etc \n",
    "    - .split = splits out the string \n",
    "    \n",
    "    \n",
    "\n",
    "    \n",
    "    \n",
    "    \n",
    "\n",
    "\n",
    "\n"
   ]
  },
  {
   "cell_type": "code",
   "execution_count": 34,
   "metadata": {},
   "outputs": [
    {
     "ename": "SyntaxError",
     "evalue": "invalid syntax (2573544106.py, line 75)",
     "output_type": "error",
     "traceback": [
      "\u001b[0;36m  Cell \u001b[0;32mIn[34], line 75\u001b[0;36m\u001b[0m\n\u001b[0;31m    for course in enumerate(courses:\u001b[0m\n\u001b[0m                                   ^\u001b[0m\n\u001b[0;31mSyntaxError\u001b[0m\u001b[0;31m:\u001b[0m invalid syntax\n"
     ]
    }
   ],
   "source": [
    "\n",
    "# index \n",
    "\"\"\"\n",
    "courses = ['History','Math','Physics','CompSci']\n",
    "print(courses[0])\n",
    "\"\"\"\n",
    "\n",
    "# negative index \n",
    "\"\"\"\n",
    "courses = ['History','Math','Physics','CompSci']\n",
    "print(courses[-1])\n",
    "\"\"\"\n",
    "\n",
    "#Range of value \n",
    "\"\"\"\n",
    "courses = ['History','Math','Physics','CompSci']\n",
    "print(courses[0:2])\n",
    "\"\"\"\n",
    "\n",
    "# Append \n",
    "\"\"\"\n",
    "courses = ['History','Math','Physics','CompSci']\n",
    "courses.append('art')\n",
    "print(courses)\n",
    "\"\"\"\n",
    "\n",
    "# Insert \n",
    "\n",
    "\"\"\"\n",
    "courses = ['History','Math','Physics','CompSci']\n",
    "courses.insert(0,'art')\n",
    "print(courses)\n",
    "\"\"\"\n",
    "\n",
    "# Extend \n",
    "\n",
    "\"\"\"\n",
    "courses = ['History','Math','Physics','CompSci']\n",
    "courses_2 = ['Art','Geo']\n",
    "courses.extend(courses_2)\n",
    "print(courses)\n",
    "\"\"\"\n",
    "\n",
    "# remove \n",
    "\n",
    "\"\"\"\n",
    "courses = ['History','Math','Physics','CompSci']\n",
    "courses.remove('math')\n",
    "print(courses)\n",
    "\"\"\"\n",
    "\n",
    "# Pop\n",
    "\n",
    "\"\"\"\n",
    "courses = ['History','Math','Physics','CompSci']\n",
    "poped = courses.pop()\n",
    "\n",
    "print(poped)\n",
    "print(courses)\n",
    "\"\"\"\n",
    "\n",
    "# Sorting \n",
    "'''\n",
    "courses = ['History','Math','Physics','CompSci']\n",
    "\n",
    "courses.sort(reverse= True) # reverses the list\n",
    "sorted_courses = sorted(courses) # reverses the list without altering the values\n",
    "\n",
    "num = [1,2,3,4,5]\n",
    "\n",
    "#print(min(sorted_courses))\n",
    "#print(max(sorted_courses))\n",
    "#print(sum(sorted_courses))\n",
    "#print(courses.index('CompSci')) # prints the index of the value\n",
    "#print('art' in courses) # true or false \n",
    "\n",
    "#for index,course in enumerate(courses,start = 1): # if we dont want to start at 0,we can pass the starting value\n",
    "\n",
    "    #print(courses)\n",
    "\n",
    "courses_str = ','.join(courses)\n",
    "new_list =  courses_str.split(' - ')\n",
    "print(new_list)\n",
    "'''\n",
    "\n",
    "\n",
    "\n",
    "\n"
   ]
  },
  {
   "cell_type": "markdown",
   "metadata": {},
   "source": [
    "## Tuples && Sets\n",
    "\n",
    "They are very similar to list but we cant modity Tuples, they are immutable.\n",
    "\n",
    "### Sets\n",
    "- Sets are unordered list\n",
    "- They start with the brackets {}\n",
    "- they are used to chec if the value is part of the set and remove dublicate values\n",
    "- Automatically gets rid of dublicate \n",
    "- They can check what values they share or dont share with other sets \n",
    "- Intersection Method : to check what values the have in common \n",
    "- Difference : to check what valus they dont have incommom\n",
    "- Union Method : Combines the all of the values\n",
    "- set() =  To create a empty Set\n",
    "\n"
   ]
  },
  {
   "cell_type": "code",
   "execution_count": null,
   "metadata": {},
   "outputs": [],
   "source": [
    "\"\"\"\n",
    "cs_courses = {'History','Math','Physics'}\n",
    "art_courses = {'Hisotry','Math',\"Art\",'Design'}\n",
    "\n",
    "print(cs_courses.intersection(art_courses)) \n",
    "print(cs_courses.difference(art_courses))\n",
    "print(cs_courses.union(art_courses))\n",
    "empty_set = set()\n",
    "\"\"\""
   ]
  },
  {
   "cell_type": "markdown",
   "metadata": {},
   "source": [
    "# Dictionaries - Working with Key-Value Pairs"
   ]
  },
  {
   "cell_type": "markdown",
   "metadata": {},
   "source": []
  }
 ],
 "metadata": {
  "kernelspec": {
   "display_name": "Python 3",
   "language": "python",
   "name": "python3"
  },
  "language_info": {
   "codemirror_mode": {
    "name": "ipython",
    "version": 3
   },
   "file_extension": ".py",
   "mimetype": "text/x-python",
   "name": "python",
   "nbconvert_exporter": "python",
   "pygments_lexer": "ipython3",
   "version": "3.11.6"
  }
 },
 "nbformat": 4,
 "nbformat_minor": 2
}
